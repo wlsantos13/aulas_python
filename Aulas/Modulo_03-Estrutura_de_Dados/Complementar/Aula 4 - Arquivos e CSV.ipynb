{
 "cells": [
  {
   "cell_type": "markdown",
   "id": "7e0ef2eb",
   "metadata": {},
   "source": [
    "# Dois tipos principais de memória do computador"
   ]
  },
  {
   "cell_type": "markdown",
   "id": "452b7be1",
   "metadata": {},
   "source": [
    "- Armazenamento interno (HD, SDD, disco rígido...)\n",
    "  - é grande (250 gb, 500 gb, 1 tb...)\n",
    "  - é lento\n",
    "  - é persistente\n",
    "- Memória RAM\n",
    "  - é pequena (2 gb, 4 gb, 8 gb, 16 gb, ... 256 gb)\n",
    "  - é bem mais rápida\n",
    "  - volátil (não persistente)"
   ]
  },
  {
   "cell_type": "markdown",
   "id": "eec47330",
   "metadata": {},
   "source": [
    "### Modos de abertura de arquivo\n",
    "- escrita (w)\n",
    "- leitura (r)\n",
    "- adicionar (a)\n",
    "- modificador + (w+, r+)\n",
    "- w+ -> escreve e lê (vai sobrescrever o arquivo)\n",
    "- r+ -> lê e escreve (vai só abrir o arquivo)"
   ]
  },
  {
   "cell_type": "markdown",
   "id": "f47fca2f",
   "metadata": {},
   "source": [
    "### Escrita de arquivos"
   ]
  },
  {
   "cell_type": "code",
   "execution_count": 1,
   "id": "03226a0e",
   "metadata": {},
   "outputs": [],
   "source": [
    "arquivo = open('meu_arquivo.txt', 'w') # Criar o arquivo\n",
    "arquivo.write('Olá! Tudo bem?\\n') # Escreve uma string\n",
    "arquivo.write('Tudo bem, e você?')\n",
    "arquivo.close() # Fecha e salva o arquivo"
   ]
  },
  {
   "cell_type": "markdown",
   "id": "2d0f57b4",
   "metadata": {},
   "source": [
    "### Leitura de arquivos"
   ]
  },
  {
   "cell_type": "markdown",
   "id": "3ae1cba0",
   "metadata": {},
   "source": [
    "#### Formas de ler o arquivo\n",
    "- Método `arquivo.read()` -> Lê todo o arquivo\n",
    "- Método `arquivo.readlines()` -> Lê todas as linhas e coloca em uma lista\n",
    "- Método `arquivo.readline()` -> Lê a próxima linha"
   ]
  },
  {
   "cell_type": "markdown",
   "id": "f0bb876c",
   "metadata": {},
   "source": [
    "#### .read()"
   ]
  },
  {
   "cell_type": "code",
   "execution_count": 2,
   "id": "b9d4735a",
   "metadata": {},
   "outputs": [
    {
     "name": "stdout",
     "output_type": "stream",
     "text": [
      "Olá! Tudo bem?\n",
      "Tudo bem, e você?\n"
     ]
    }
   ],
   "source": [
    "arquivo = open('meu_arquivo.txt', 'r') # Ler o arquivo\n",
    "conteudo = arquivo.read()\n",
    "print(conteudo)\n",
    "arquivo.close()"
   ]
  },
  {
   "cell_type": "markdown",
   "id": "40e98e79",
   "metadata": {},
   "source": [
    "#### .readlines()"
   ]
  },
  {
   "cell_type": "code",
   "execution_count": 3,
   "id": "7c6f504a",
   "metadata": {},
   "outputs": [
    {
     "name": "stdout",
     "output_type": "stream",
     "text": [
      "['Olá! Tudo bem?\\n', 'Tudo bem, e você?']\n"
     ]
    }
   ],
   "source": [
    "arquivo = open('meu_arquivo.txt', 'r') # Ler o arquivo\n",
    "conteudo = arquivo.readlines()\n",
    "print(conteudo)\n",
    "arquivo.close()"
   ]
  },
  {
   "cell_type": "markdown",
   "id": "b8d8a14f",
   "metadata": {},
   "source": [
    "#### .readline()"
   ]
  },
  {
   "cell_type": "code",
   "execution_count": 4,
   "id": "d594c720",
   "metadata": {},
   "outputs": [],
   "source": [
    "arquivo = open('meu_arquivo.txt', 'r') # Ler o arquivo"
   ]
  },
  {
   "cell_type": "code",
   "execution_count": 5,
   "id": "0c6badc6",
   "metadata": {},
   "outputs": [
    {
     "name": "stdout",
     "output_type": "stream",
     "text": [
      "Olá! Tudo bem?\n",
      "\n"
     ]
    }
   ],
   "source": [
    "print(arquivo.readline())"
   ]
  },
  {
   "cell_type": "code",
   "execution_count": 6,
   "id": "4f231982",
   "metadata": {},
   "outputs": [
    {
     "name": "stdout",
     "output_type": "stream",
     "text": [
      "Tudo bem, e você?\n"
     ]
    }
   ],
   "source": [
    "print(arquivo.readline())"
   ]
  },
  {
   "cell_type": "code",
   "execution_count": 7,
   "id": "5299771a",
   "metadata": {},
   "outputs": [
    {
     "name": "stdout",
     "output_type": "stream",
     "text": [
      "\n"
     ]
    }
   ],
   "source": [
    "print(arquivo.readline())"
   ]
  },
  {
   "cell_type": "code",
   "execution_count": 8,
   "id": "3f758ef2",
   "metadata": {},
   "outputs": [],
   "source": [
    "arquivo.close()"
   ]
  },
  {
   "cell_type": "markdown",
   "id": "61400aa4",
   "metadata": {},
   "source": [
    "### Adicionar ao final (append)"
   ]
  },
  {
   "cell_type": "code",
   "execution_count": 9,
   "id": "4c152c95",
   "metadata": {},
   "outputs": [],
   "source": [
    "arquivo = open('meu_arquivo.txt', 'a')\n",
    "arquivo.write('\\nTudo certo também!')\n",
    "arquivo.close()"
   ]
  },
  {
   "cell_type": "markdown",
   "id": "a0073fef",
   "metadata": {},
   "source": [
    "### ---------  Extra ----------\n",
    "Verificando se arquivo existe"
   ]
  },
  {
   "cell_type": "code",
   "execution_count": 10,
   "id": "f8ba71cf",
   "metadata": {},
   "outputs": [],
   "source": [
    "try:\n",
    "    open('meu_arquivo.txt', 'r')\n",
    "except:\n",
    "    print('Arquivo não encontrado')"
   ]
  },
  {
   "cell_type": "code",
   "execution_count": 11,
   "id": "6ed42943",
   "metadata": {},
   "outputs": [
    {
     "name": "stdout",
     "output_type": "stream",
     "text": [
      "Arquivo existe\n"
     ]
    }
   ],
   "source": [
    "import os\n",
    "arquivos = os.listdir()\n",
    "\n",
    "if 'meu_arquivo.txt' in arquivos:\n",
    "    print(\"Arquivo existe\")\n",
    "else:\n",
    "    print(\"Arquivo não existe\")"
   ]
  },
  {
   "cell_type": "markdown",
   "id": "94acccac",
   "metadata": {},
   "source": [
    "# Arquivos CSV"
   ]
  },
  {
   "cell_type": "markdown",
   "id": "a3e76f83",
   "metadata": {},
   "source": [
    "- CSV -> Comma Separated Values (Valores separados por virgula)\n",
    "- São arquivos utilizados para representar planilhas"
   ]
  },
  {
   "cell_type": "markdown",
   "id": "1904cd08",
   "metadata": {},
   "source": [
    "### Leitura de CSV"
   ]
  },
  {
   "cell_type": "code",
   "execution_count": 12,
   "id": "9d0c44eb",
   "metadata": {},
   "outputs": [
    {
     "name": "stdout",
     "output_type": "stream",
     "text": [
      "['Nome,Nota,Frequencia\\n', 'Brian,9,80\\n', 'Paulo,8.5,90\\n', 'Matheus,9.5,70\\n', 'Renato,7.3,60']\n"
     ]
    }
   ],
   "source": [
    "arquivo = open('exemplo_csv.csv', 'r')\n",
    "print(arquivo.readlines())\n",
    "arquivo.close()"
   ]
  },
  {
   "cell_type": "markdown",
   "id": "2f7a7ea2",
   "metadata": {},
   "source": [
    "### O formato que gostariamos de ter\n"
   ]
  },
  {
   "cell_type": "markdown",
   "id": "cb0ca928",
   "metadata": {},
   "source": [
    "```\n",
    "tabela = [\n",
    "    ['Nome', 'Nota', 'Frequencia'],\n",
    "    ['Brian', '9', '80'],\n",
    "    ['Paulo, '8.5', '90'],\n",
    "    ...\n",
    "]\n",
    "```"
   ]
  },
  {
   "cell_type": "code",
   "execution_count": 13,
   "id": "760d14bb",
   "metadata": {},
   "outputs": [],
   "source": [
    "import csv\n",
    "\n",
    "arquivo = open('exemplo_csv.csv', 'r')\n",
    "\n",
    "leitor = csv.reader(arquivo, delimiter=',', lineterminator='\\n')"
   ]
  },
  {
   "cell_type": "code",
   "execution_count": 14,
   "id": "095fca8a",
   "metadata": {},
   "outputs": [],
   "source": [
    "# numeros = [1, 2, 3]\n",
    "# for numero in numeros:\n",
    "#     print(numero)\n",
    "\n",
    "tabela = []\n",
    "\n",
    "for linha in leitor:\n",
    "    tabela.append(linha)"
   ]
  },
  {
   "cell_type": "code",
   "execution_count": 15,
   "id": "01901785",
   "metadata": {},
   "outputs": [
    {
     "data": {
      "text/plain": [
       "[['Nome', 'Nota', 'Frequencia'],\n",
       " ['Brian', '9', '80'],\n",
       " ['Paulo', '8.5', '90'],\n",
       " ['Matheus', '9.5', '70'],\n",
       " ['Renato', '7.3', '60']]"
      ]
     },
     "execution_count": 15,
     "metadata": {},
     "output_type": "execute_result"
    }
   ],
   "source": [
    "tabela"
   ]
  },
  {
   "cell_type": "code",
   "execution_count": 16,
   "id": "42f62ad5",
   "metadata": {},
   "outputs": [],
   "source": [
    "arquivo.close()"
   ]
  },
  {
   "cell_type": "code",
   "execution_count": 17,
   "id": "1220b8fe",
   "metadata": {},
   "outputs": [
    {
     "data": {
      "text/plain": [
       "[['Nome', 'Nota', 'Frequencia'],\n",
       " ['Brian', '9', '80'],\n",
       " ['Paulo', '8.5', '90'],\n",
       " ['Matheus', '9.5', '70'],\n",
       " ['Renato', '7.3', '60']]"
      ]
     },
     "execution_count": 17,
     "metadata": {},
     "output_type": "execute_result"
    }
   ],
   "source": [
    "tabela"
   ]
  },
  {
   "cell_type": "markdown",
   "id": "d3015abb",
   "metadata": {},
   "source": [
    "### Cálculo da média da turma"
   ]
  },
  {
   "cell_type": "code",
   "execution_count": 18,
   "id": "ec06a2bc",
   "metadata": {},
   "outputs": [],
   "source": [
    "linhas = tabela[1:]"
   ]
  },
  {
   "cell_type": "code",
   "execution_count": 19,
   "id": "403072cc",
   "metadata": {},
   "outputs": [
    {
     "name": "stdout",
     "output_type": "stream",
     "text": [
      "[['Brian', '9', '80'], ['Paulo', '8.5', '90'], ['Matheus', '9.5', '70'], ['Renato', '7.3', '60']]\n"
     ]
    }
   ],
   "source": [
    "print(linhas)"
   ]
  },
  {
   "cell_type": "code",
   "execution_count": 20,
   "id": "b5a5cc38",
   "metadata": {},
   "outputs": [
    {
     "name": "stdout",
     "output_type": "stream",
     "text": [
      "[9.0, 8.5, 9.5, 7.3]\n",
      "8.575\n"
     ]
    }
   ],
   "source": [
    "notas = []\n",
    "for linha in linhas:\n",
    "    notas.append(float(linha[1]))\n",
    "    \n",
    "print(notas)\n",
    "\n",
    "media = sum(notas)/len(notas)\n",
    "\n",
    "print(media)"
   ]
  },
  {
   "cell_type": "markdown",
   "id": "744ed7b6",
   "metadata": {},
   "source": [
    "### Escrita de CSV"
   ]
  },
  {
   "cell_type": "code",
   "execution_count": 21,
   "id": "3a8b898d",
   "metadata": {},
   "outputs": [],
   "source": [
    "# Vamos jogar esta tabela em um arquivo CSV\n",
    "tabela = [['Nome', 'Nota', 'Frequencia'],\n",
    " ['Brian', '9', '80'],\n",
    " ['Paulo', '8.5', '90'],\n",
    " ['Matheus', '9.5', '70'],\n",
    " ['Renato', '7.3', '60']]\n",
    "\n",
    "\n",
    "arquivo = open('minha_tabela.csv', 'w')\n",
    "\n",
    "escritor = csv.writer(arquivo, delimiter='\\t', lineterminator='\\n')\n",
    "\n",
    "escritor.writerows(tabela) # Escreve a tabela\n",
    "\n",
    "arquivo.close()\n"
   ]
  },
  {
   "cell_type": "code",
   "execution_count": null,
   "id": "079d143b",
   "metadata": {},
   "outputs": [],
   "source": []
  },
  {
   "cell_type": "code",
   "execution_count": null,
   "id": "e6df700e",
   "metadata": {},
   "outputs": [],
   "source": []
  }
 ],
 "metadata": {
  "kernelspec": {
   "display_name": "Python 3 (ipykernel)",
   "language": "python",
   "name": "python3"
  },
  "language_info": {
   "codemirror_mode": {
    "name": "ipython",
    "version": 3
   },
   "file_extension": ".py",
   "mimetype": "text/x-python",
   "name": "python",
   "nbconvert_exporter": "python",
   "pygments_lexer": "ipython3",
   "version": "3.8.10"
  }
 },
 "nbformat": 4,
 "nbformat_minor": 5
}
