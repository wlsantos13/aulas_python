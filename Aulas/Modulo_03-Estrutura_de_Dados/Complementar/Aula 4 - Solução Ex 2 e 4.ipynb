{
 "cells": [
  {
   "cell_type": "markdown",
   "metadata": {},
   "source": [
    "# 3. Exercícios"
   ]
  },
  {
   "cell_type": "markdown",
   "metadata": {},
   "source": [
    "**2.** Salve as notas_alunos em um arquivo csv com o mesmo nome"
   ]
  },
  {
   "cell_type": "code",
   "execution_count": 20,
   "metadata": {},
   "outputs": [],
   "source": [
    "# Planilha\n",
    "# Nome Nota1 Nota2 Nota3 Nota4 Nota5\n",
    "\n",
    "notas_alunos = [['jose', 10, 8, 9.5, 8.8, 10],\n",
    "                ['pedro', 9.8, 9.2, 9.0, 8.8, 9.1],\n",
    "                ['suzana', 8, 7.1, 7.5, 8.2, 7.9],\n",
    "                ['gisela', 10, 9.6, 8.9, 9.4, 9.7],\n",
    "                ['joao', 7.5, 7.9, 8.0, 9.1, 7.3]]"
   ]
  },
  {
   "cell_type": "code",
   "execution_count": 21,
   "metadata": {},
   "outputs": [],
   "source": [
    "import csv\n",
    "\n",
    "arquivo = open('notas_alunos.csv', 'w')\n",
    "\n",
    "escritor = csv.writer(arquivo, delimiter=',', lineterminator='\\n')\n",
    "\n",
    "escritor.writerows(notas_alunos)\n",
    "\n",
    "arquivo.close()"
   ]
  },
  {
   "cell_type": "markdown",
   "metadata": {},
   "source": [
    "**4.** Leia o arquivo notas_alunos.csv e retorne a nota média de cada um deles"
   ]
  },
  {
   "cell_type": "code",
   "execution_count": 22,
   "metadata": {},
   "outputs": [
    {
     "name": "stdout",
     "output_type": "stream",
     "text": [
      "O aluno jose tem média 9.26\n",
      "O aluno pedro tem média 9.18\n",
      "O aluno suzana tem média 7.74\n",
      "O aluno gisela tem média 9.52\n",
      "O aluno joao tem média 7.96\n"
     ]
    }
   ],
   "source": [
    "arquivo = open('notas_alunos.csv', 'r')\n",
    "\n",
    "leitor = csv.reader(arquivo, delimiter=',', lineterminator='\\n')\n",
    "\n",
    "for linha in leitor:\n",
    "    nome = linha[0]\n",
    "    notas = linha[1:]\n",
    "    \n",
    "    notas_convertidas = []\n",
    "    for nota in notas:\n",
    "        notas_convertidas.append(float(nota))\n",
    "    \n",
    "    media = sum(notas_convertidas) / len(notas_convertidas)\n",
    "    \n",
    "    print(f'O aluno {nome} tem média {media:.2f}')\n",
    "    \n",
    "arquivo.close()"
   ]
  },
  {
   "cell_type": "markdown",
   "metadata": {},
   "source": [
    "____\n",
    "____\n",
    "____\n",
    "____"
   ]
  }
 ],
 "metadata": {
  "kernelspec": {
   "display_name": "Python 3 (ipykernel)",
   "language": "python",
   "name": "python3"
  },
  "language_info": {
   "codemirror_mode": {
    "name": "ipython",
    "version": 3
   },
   "file_extension": ".py",
   "mimetype": "text/x-python",
   "name": "python",
   "nbconvert_exporter": "python",
   "pygments_lexer": "ipython3",
   "version": "3.9.7"
  }
 },
 "nbformat": 4,
 "nbformat_minor": 4
}
