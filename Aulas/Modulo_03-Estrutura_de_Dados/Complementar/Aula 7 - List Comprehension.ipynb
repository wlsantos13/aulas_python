{
 "cells": [
  {
   "cell_type": "markdown",
   "metadata": {},
   "source": [
    "# List Comprehension\n",
    "\n",
    "Compreensão de listas é uma das maneiras mais rápidas e elegantes de se criar uma lista, vamos abordar suas estruturas fundamentais a primeira e mais simples delas é a seguinte:\n",
    "\n",
    "```python\n",
    "novaLista = [expressao for item in algoIteravel]\n",
    "```\n",
    "\n",
    "Vamos testar essa estrutura?"
   ]
  },
  {
   "cell_type": "code",
   "execution_count": null,
   "metadata": {},
   "outputs": [],
   "source": [
    "%%timeit\n",
    "\n",
    "lista_numeros = []\n",
    "\n",
    "for numero in range(1, 10001):\n",
    "    lista_numeros.append(numero)"
   ]
  },
  {
   "cell_type": "code",
   "execution_count": null,
   "metadata": {},
   "outputs": [],
   "source": [
    "%%timeit\n",
    "\n",
    "lista_numeros = [numero for numero in range(1, 10001)]"
   ]
  },
  {
   "cell_type": "markdown",
   "metadata": {},
   "source": [
    "Podemos incrementar nossa comprensão com a seguinte estrutura:\n",
    "\n",
    "```python\n",
    "novaLista = [expressao for item in algoIteravel if condicao == True]\n",
    "```"
   ]
  },
  {
   "cell_type": "code",
   "execution_count": null,
   "metadata": {},
   "outputs": [],
   "source": [
    "%%timeit\n",
    "\n",
    "lista_numeros = []\n",
    "\n",
    "for numero in range(1, 100001):\n",
    "    if numero % 2 == 0:\n",
    "        lista_numeros.append(numero)"
   ]
  },
  {
   "cell_type": "code",
   "execution_count": null,
   "metadata": {},
   "outputs": [],
   "source": [
    "%%timeit\n",
    "\n",
    "lista_numeros = [numero for numero in range(1, 100001) if numero % 2 == 0]"
   ]
  },
  {
   "cell_type": "markdown",
   "metadata": {},
   "source": [
    "Agora pra finalizar bonito, vamos ver a ultima estrutura elementar de _List Comprehension_\n",
    "\n",
    "```python\n",
    "novaLista = [valor1 if condicao else valor2 for item in algoIteravel ]\n",
    "```\n",
    "\n",
    "Podemos ainda aninhar _fors_ em nossa estrutura com a seguinte estrutura:\n",
    "\n",
    "```python\n",
    "novaLista = [valor1 if condicao else valor2 for sublista in algoIteravel for item in sublista]\n",
    "```\n",
    "\n",
    "E caso não queiramos o _else_ podemos ter:\n",
    "\n",
    "```python\n",
    "novaLista = [valor1 for sublista in algoIteravel for item in sublista if condicao]\n",
    "```"
   ]
  },
  {
   "cell_type": "code",
   "execution_count": null,
   "metadata": {},
   "outputs": [],
   "source": [
    "%%timeit\n",
    "\n",
    "lista_numeros = []\n",
    "\n",
    "for numero in range(1, 100001):\n",
    "    if numero % 2 == 0:\n",
    "        lista_numeros.append(numero)\n",
    "    else:\n",
    "        lista_numeros.append(False)"
   ]
  },
  {
   "cell_type": "code",
   "execution_count": null,
   "metadata": {},
   "outputs": [],
   "source": [
    "%%timeit\n",
    "\n",
    "lista_numeros = [numero if numero % 2 == 0 else False for numero in range(1, 100001)]"
   ]
  },
  {
   "cell_type": "code",
   "execution_count": null,
   "metadata": {},
   "outputs": [],
   "source": [
    "%%timeit\n",
    "\n",
    "lista_aninhada = [\n",
    "    [1, 2, 3, 4, 5],\n",
    "    [6, 7, 8, 9, 10],\n",
    "    [11, 12, 13, 14, 15],\n",
    "    [16, 17, 18, 19, 20]\n",
    "]\n",
    "\n",
    "lista_numeros = []\n",
    "\n",
    "for sublista in lista_aninhada:\n",
    "    for numero in sublista:\n",
    "        if numero % 2 == 0:\n",
    "            lista_numeros.append(numero)\n",
    "        else:\n",
    "            lista_numeros.append(False)"
   ]
  },
  {
   "cell_type": "code",
   "execution_count": null,
   "metadata": {},
   "outputs": [],
   "source": [
    "%%timeit\n",
    "\n",
    "lista_numeros = [numero if numero % 2 == 0 else False for sublista in lista_aninhada for numero in sublista]"
   ]
  },
  {
   "cell_type": "code",
   "execution_count": null,
   "metadata": {},
   "outputs": [],
   "source": [
    "%%timeit\n",
    "\n",
    "lista_aninhada = [\n",
    "    [1, 2, 3, 4, 5],\n",
    "    [6, 7, 8, 9, 10],\n",
    "    [11, 12, 13, 14, 15],\n",
    "    [16, 17, 18, 19, 20]\n",
    "]\n",
    "\n",
    "lista_numeros = []\n",
    "\n",
    "for sublista in lista_aninhada:\n",
    "    for numero in sublista:\n",
    "        if numero % 2 == 0:\n",
    "            lista_numeros.append(numero)"
   ]
  },
  {
   "cell_type": "code",
   "execution_count": null,
   "metadata": {},
   "outputs": [],
   "source": [
    "%%timeit\n",
    "\n",
    "lista_numeros = [numero for outra_lista in lista_aninhada for numero in outra_lista if numero % 2 == 0]"
   ]
  },
  {
   "cell_type": "code",
   "execution_count": null,
   "metadata": {},
   "outputs": [],
   "source": [
    "from copy import deepcopy\n",
    "\n",
    "lista_aninhada = [\n",
    "    [1, 2, 3, 4, 5],\n",
    "    [6, 7, 8, 9, 10],\n",
    "    [11, 12, 13, 14, 15],\n",
    "    [16, 17, 18, 19, 20]\n",
    "]\n",
    "\n",
    "lista_aninhada_2 = deepcopy(lista_aninhada)"
   ]
  },
  {
   "cell_type": "code",
   "execution_count": null,
   "metadata": {},
   "outputs": [],
   "source": [
    "lista_aninhada[0][0] = 99"
   ]
  },
  {
   "cell_type": "code",
   "execution_count": null,
   "metadata": {},
   "outputs": [],
   "source": [
    "lista_aninhada"
   ]
  },
  {
   "cell_type": "code",
   "execution_count": null,
   "metadata": {},
   "outputs": [],
   "source": [
    "lista_aninhada_2"
   ]
  },
  {
   "cell_type": "code",
   "execution_count": null,
   "metadata": {},
   "outputs": [],
   "source": [
    "lista_aninhada = [\n",
    "    [1, 2, 3, 4, 5],\n",
    "    [6, 7, 8, 9, 10],\n",
    "    [11, 12, 13, 14, 15],\n",
    "    [16, 17, 18, 19, 20]\n",
    "]\n",
    "\n",
    "lista_aninhada_2 = []\n",
    "for sublista in lista_aninhada:\n",
    "    lista_temp = []\n",
    "    for numero in sublista:\n",
    "        lista_temp.append(numero)\n",
    "    lista_aninhada_2.append(lista_temp)\n",
    "\n",
    "lista_aninhada[0][0] = 0\n",
    "\n",
    "print(lista_aninhada)\n",
    "print(lista_aninhada_2)"
   ]
  },
  {
   "cell_type": "code",
   "execution_count": null,
   "metadata": {},
   "outputs": [],
   "source": [
    "lista_aninhada = [\n",
    "    [1, 2, 3, 4, 5],\n",
    "    [6, 7, 8, 9, 10],\n",
    "    [11, 12, 13, 14, 15],\n",
    "    [16, 17, 18, 19, 20]\n",
    "]\n",
    "\n",
    "lista_aninhada_2 = []\n",
    "for sublista in lista_aninhada:\n",
    "    lista_temp  = sublista.copy()\n",
    "    lista_temp[0] = None\n",
    "    lista_aninhada_2.append(lista_temp)\n",
    "\n",
    "lista_aninhada[0][0] = 0\n",
    "\n",
    "print(lista_aninhada)\n",
    "print(lista_aninhada_2)"
   ]
  },
  {
   "cell_type": "code",
   "execution_count": null,
   "metadata": {},
   "outputs": [],
   "source": [
    "lista_aninhada_2 = [[x for x in linha] for linha in lista_aninhada]"
   ]
  },
  {
   "cell_type": "markdown",
   "metadata": {},
   "source": [
    "# Voltamos as 20:18"
   ]
  },
  {
   "cell_type": "markdown",
   "metadata": {},
   "source": [
    "# Exercícios - Regra: Tudo deve ser feito em **UMA** linha!\n",
    "\n",
    "Encontre todos os números divisiveis por 8 de 1 a 1000 (intervalo fechado)"
   ]
  },
  {
   "cell_type": "code",
   "execution_count": 1,
   "metadata": {},
   "outputs": [
    {
     "name": "stdout",
     "output_type": "stream",
     "text": [
      "[8, 16, 24, 32, 40, 48, 56, 64, 72, 80, 88, 96]\n"
     ]
    }
   ],
   "source": [
    "lista_divisiveis_oito = []\n",
    "\n",
    "for n in range(1, 101):\n",
    "    if n % 8 == 0:\n",
    "        lista_divisiveis_oito.append(n)\n",
    "        \n",
    "print(lista_divisiveis_oito)"
   ]
  },
  {
   "cell_type": "code",
   "execution_count": 3,
   "metadata": {},
   "outputs": [
    {
     "name": "stdout",
     "output_type": "stream",
     "text": [
      "[8, 16, 24, 32, 40, 48, 56, 64, 72, 80, 88, 96]\n"
     ]
    }
   ],
   "source": [
    "lista_divisiveis_oito = []\n",
    "\n",
    "for n in range(8, 101, 8):\n",
    "    lista_divisiveis_oito.append(n)\n",
    "        \n",
    "print(lista_divisiveis_oito)"
   ]
  },
  {
   "cell_type": "code",
   "execution_count": 5,
   "metadata": {},
   "outputs": [
    {
     "name": "stdout",
     "output_type": "stream",
     "text": [
      "[8, 16, 24, 32, 40, 48, 56, 64, 72, 80, 88, 96, 104, 112, 120, 128, 136, 144, 152, 160, 168, 176, 184, 192, 200, 208, 216, 224, 232, 240, 248, 256, 264, 272, 280, 288, 296, 304, 312, 320, 328, 336, 344, 352, 360, 368, 376, 384, 392, 400, 408, 416, 424, 432, 440, 448, 456, 464, 472, 480, 488, 496, 504, 512, 520, 528, 536, 544, 552, 560, 568, 576, 584, 592, 600, 608, 616, 624, 632, 640, 648, 656, 664, 672, 680, 688, 696, 704, 712, 720, 728, 736, 744, 752, 760, 768, 776, 784, 792, 800, 808, 816, 824, 832, 840, 848, 856, 864, 872, 880, 888, 896, 904, 912, 920, 928, 936, 944, 952, 960, 968, 976, 984, 992, 1000]\n"
     ]
    }
   ],
   "source": [
    "print([n for n in range(8, 1001, 8)])"
   ]
  },
  {
   "cell_type": "markdown",
   "metadata": {},
   "source": [
    "---\n",
    "\n",
    "Faça um programa que escreva todos os números múltiplos de 7 entre 1 e N, sendo N um valor introduzido pelo usuário. Por exemplos: 7, 14, 21, 28, 35."
   ]
  },
  {
   "cell_type": "code",
   "execution_count": 9,
   "metadata": {},
   "outputs": [
    {
     "name": "stdout",
     "output_type": "stream",
     "text": [
      "Até onde deseja ver a tabuada do 7? 100\n",
      "[7, 14, 21, 28, 35, 42, 49, 56, 63, 70, 77, 84, 91, 98]\n"
     ]
    }
   ],
   "source": [
    "lista_divisiveis_sete = []\n",
    "limite = int(input(\"Até onde deseja ver a tabuada do 7? \"))\n",
    "for n in range(7, limite+1, 7):\n",
    "    lista_divisiveis_sete.append(n)\n",
    "        \n",
    "print(lista_divisiveis_sete)"
   ]
  },
  {
   "cell_type": "code",
   "execution_count": 12,
   "metadata": {},
   "outputs": [
    {
     "name": "stdout",
     "output_type": "stream",
     "text": [
      "Até onde deseja ver a tabuada do 7? 35\n",
      "[7, 14, 21, 28, 35]\n"
     ]
    }
   ],
   "source": [
    "print([n for n in range(7, int(input(\"Até onde deseja ver a tabuada do 7? \"))+1, 7)])"
   ]
  },
  {
   "cell_type": "markdown",
   "metadata": {},
   "source": [
    "---\n",
    "\n",
    "Faça uma lista com todos números entre 1 e 1000 (intervalo fechado) que tenha pelo menos um dígito \"6\" nele"
   ]
  },
  {
   "cell_type": "code",
   "execution_count": 19,
   "metadata": {},
   "outputs": [
    {
     "name": "stdout",
     "output_type": "stream",
     "text": [
      "[6, 16, 26, 36, 46, 56, 60, 61, 62, 63, 64, 65, 66, 67, 68, 69, 76, 86, 96]\n"
     ]
    }
   ],
   "source": [
    "lista_numeros_seis = []\n",
    "\n",
    "for numero in range(1, 101):\n",
    "    if \"6\" in str(numero):\n",
    "        lista_numeros_seis.append(numero)\n",
    "        \n",
    "print(lista_numeros_seis)"
   ]
  },
  {
   "cell_type": "code",
   "execution_count": 17,
   "metadata": {},
   "outputs": [
    {
     "name": "stdout",
     "output_type": "stream",
     "text": [
      "[6, 16, 26, 36, 46, 56, 60, 61, 62, 63, 64, 65, 66, 67, 68, 69, 76, 86, 96, 106, 116, 126, 136, 146, 156, 160, 161, 162, 163, 164, 165, 166, 167, 168, 169, 176, 186, 196, 206, 216, 226, 236, 246, 256, 260, 261, 262, 263, 264, 265, 266, 267, 268, 269, 276, 286, 296, 306, 316, 326, 336, 346, 356, 360, 361, 362, 363, 364, 365, 366, 367, 368, 369, 376, 386, 396, 406, 416, 426, 436, 446, 456, 460, 461, 462, 463, 464, 465, 466, 467, 468, 469, 476, 486, 496, 506, 516, 526, 536, 546, 556, 560, 561, 562, 563, 564, 565, 566, 567, 568, 569, 576, 586, 596, 600, 601, 602, 603, 604, 605, 606, 607, 608, 609, 610, 611, 612, 613, 614, 615, 616, 617, 618, 619, 620, 621, 622, 623, 624, 625, 626, 627, 628, 629, 630, 631, 632, 633, 634, 635, 636, 637, 638, 639, 640, 641, 642, 643, 644, 645, 646, 647, 648, 649, 650, 651, 652, 653, 654, 655, 656, 657, 658, 659, 660, 661, 662, 663, 664, 665, 666, 667, 668, 669, 670, 671, 672, 673, 674, 675, 676, 677, 678, 679, 680, 681, 682, 683, 684, 685, 686, 687, 688, 689, 690, 691, 692, 693, 694, 695, 696, 697, 698, 699, 706, 716, 726, 736, 746, 756, 760, 761, 762, 763, 764, 765, 766, 767, 768, 769, 776, 786, 796, 806, 816, 826, 836, 846, 856, 860, 861, 862, 863, 864, 865, 866, 867, 868, 869, 876, 886, 896, 906, 916, 926, 936, 946, 956, 960, 961, 962, 963, 964, 965, 966, 967, 968, 969, 976, 986, 996]\n"
     ]
    }
   ],
   "source": [
    "print([numero for numero in range(1, 1001) if \"6\" in str(numero)])"
   ]
  },
  {
   "cell_type": "markdown",
   "metadata": {},
   "source": [
    "---\n",
    "\n",
    "Quantas vezes o número 6 aparece entre 1 e 1000 (intervalo fechado)?"
   ]
  },
  {
   "cell_type": "code",
   "execution_count": 21,
   "metadata": {},
   "outputs": [
    {
     "name": "stdout",
     "output_type": "stream",
     "text": [
      "300\n"
     ]
    }
   ],
   "source": [
    "lista_numeros_seis = []\n",
    "\n",
    "for numero in range(1, 1001):\n",
    "    lista_numeros_seis.append(str(numero).count(\"6\"))\n",
    "        \n",
    "print(sum(lista_numeros_seis))"
   ]
  },
  {
   "cell_type": "code",
   "execution_count": 23,
   "metadata": {},
   "outputs": [
    {
     "name": "stdout",
     "output_type": "stream",
     "text": [
      "300\n"
     ]
    }
   ],
   "source": [
    "print(sum([str(numero).count(\"6\") for numero in range(1, 1001)]))"
   ]
  },
  {
   "cell_type": "markdown",
   "metadata": {},
   "source": [
    "---\n",
    "\n",
    "Use compreensão de listas aninhadas para encontrar todos os numeros entre 1-1000 (intervalo fechado) divisiveis por qualquer número entre 2-9 (intervalo fechado)"
   ]
  },
  {
   "cell_type": "code",
   "execution_count": 25,
   "metadata": {},
   "outputs": [
    {
     "name": "stdout",
     "output_type": "stream",
     "text": [
      "[2, 3, 4, 5, 6, 7, 8, 9, 10, 12, 14, 15, 16, 18, 20, 21, 22, 24, 25, 26, 27, 28, 30, 32, 33, 34, 35, 36, 38, 39, 40, 42, 44, 45, 46, 48, 49, 50, 51, 52, 54, 55, 56, 57, 58, 60, 62, 63, 64, 65, 66, 68, 69, 70, 72, 74, 75, 76, 77, 78, 80, 81, 82, 84, 85, 86, 87, 88, 90, 91, 92, 93, 94, 95, 96, 98, 99, 100]\n"
     ]
    }
   ],
   "source": [
    "lista_divisiveis = []\n",
    "\n",
    "for numero in range(1, 101):\n",
    "    for divisor in range(2, 10):\n",
    "        if numero % divisor == 0:\n",
    "            lista_divisiveis.append(numero)\n",
    "            break\n",
    "            \n",
    "print(lista_divisiveis)"
   ]
  },
  {
   "cell_type": "code",
   "execution_count": 28,
   "metadata": {},
   "outputs": [
    {
     "name": "stdout",
     "output_type": "stream",
     "text": [
      "[2, 3, 4, 5, 6, 7, 8, 9, 10, 12, 14, 15, 16, 18, 20, 21, 22, 24, 25, 26, 27, 28, 30, 32, 33, 34, 35, 36, 38, 39, 40, 42, 44, 45, 46, 48, 49, 50, 51, 52, 54, 55, 56, 57, 58, 60, 62, 63, 64, 65, 66, 68, 69, 70, 72, 74, 75, 76, 77, 78, 80, 81, 82, 84, 85, 86, 87, 88, 90, 91, 92, 93, 94, 95, 96, 98, 99, 100]\n"
     ]
    }
   ],
   "source": [
    "print([numero for numero in range(1, 101) if True in [numero%divisor==0 for divisor in range(2, 10)]])"
   ]
  },
  {
   "cell_type": "code",
   "execution_count": null,
   "metadata": {},
   "outputs": [],
   "source": [
    "numeros = [x for x in range(1,1001) if [x for y in range(2,10) if x%y == 0]]\n",
    "print(numeros)"
   ]
  },
  {
   "cell_type": "markdown",
   "metadata": {},
   "source": [
    "---\n",
    "\n",
    "Faça uma lista com o(s) maior(es) valor(es) de uma outra lista, exemplo:\n",
    "\n",
    "Entrada: [1, 2, 3, 4, 5, 6]<br>\n",
    "Saída: [6]\n",
    "\n",
    "Entrada: [6, 3, 1, 8, -10, 6, 0, 2]<br>\n",
    "Saída: [8]\n",
    "\n",
    "Entrada: [6, 3, 1, 8, -10, 10, 0, 2, 10]<br>\n",
    "Saída: [10, 10]"
   ]
  },
  {
   "cell_type": "code",
   "execution_count": 32,
   "metadata": {},
   "outputs": [
    {
     "name": "stdout",
     "output_type": "stream",
     "text": [
      "[8, 8]\n"
     ]
    }
   ],
   "source": [
    "lista = [6, 3, 1, 8, -10, 10, 0, 2, 10]\n",
    "lista_maiores = []\n",
    "\n",
    "for numero in lista:\n",
    "    maior = True\n",
    "    for comparado in lista:\n",
    "        if numero < comparado:\n",
    "            maior = False\n",
    "    if maior:\n",
    "        lista_maiores.append(numero)\n",
    "        \n",
    "print(lista_maiores)"
   ]
  },
  {
   "cell_type": "code",
   "execution_count": 36,
   "metadata": {},
   "outputs": [
    {
     "name": "stdout",
     "output_type": "stream",
     "text": [
      "[10, 10, 10]\n"
     ]
    }
   ],
   "source": [
    "lista = [6, 3, 1, 8, -10, 10, 0, 2, 10, 10]\n",
    "print([numero for numero in lista if not False in [numero >= comparado for comparado in lista]])"
   ]
  },
  {
   "cell_type": "code",
   "execution_count": null,
   "metadata": {},
   "outputs": [],
   "source": [
    "lista = [6, 3, 1, 8, -10, 10, 0, 2, 10]\n",
    "numeros = [x for x in lista if x == sorted(lista)[-1]]\n",
    "print(numeros)"
   ]
  },
  {
   "cell_type": "code",
   "execution_count": 40,
   "metadata": {},
   "outputs": [
    {
     "name": "stdout",
     "output_type": "stream",
     "text": [
      "18 µs ± 893 ns per loop (mean ± std. dev. of 7 runs, 100000 loops each)\n"
     ]
    }
   ],
   "source": [
    "%%timeit\n",
    "\n",
    "def mede_rio(matrix, i, j):\n",
    "    tamanho = 1\n",
    "    if i+1 < len(matrix) and matrix[i+1][j] == 1:\n",
    "        matrix[i+1][j] = -1\n",
    "        tamanho += mede_rio(matrix, i+1, j)\n",
    "    elif i-1 >= 0 and matrix[i-1][j] == 1:\n",
    "        matrix[i-1][j] = -1\n",
    "        tamanho += mede_rio(matrix, i-1, j)\n",
    "    elif j+1 < len(matrix[i]) and matrix[i][j+1] == 1:\n",
    "        matrix[i][j+1] = -1\n",
    "        tamanho += mede_rio(matrix, i, j+1)\n",
    "    elif j-1 >= 0 and matrix[i][j-1] == 1:\n",
    "        matrix[i][j-1] = -1\n",
    "        tamanho += mede_rio(matrix, i, j-1)\n",
    "    return tamanho\n",
    "\n",
    "def conta_rios(matrix):\n",
    "    tamanho_rios = []\n",
    "\n",
    "    for i in range(len(matrix)):\n",
    "        for j in range(len(matrix[i])):\n",
    "            if (matrix[i][j] == 1):\n",
    "                matrix[i][j] = -1\n",
    "                tamanho_rios.append(mede_rio(matrix, i, j))\n",
    "    \n",
    "    return tamanho_rios\n",
    "\n",
    "\n",
    "matrix = [\n",
    "    [1, 0, 1, 1, 0],\n",
    "    [1, 0, 1, 0, 0],\n",
    "    [1, 1, 1, 0, 1],\n",
    "    [1, 0, 1, 0, 1],\n",
    "    [1, 0, 1, 1, 1],\n",
    "]\n",
    "\n",
    "conta_rios(matrix)"
   ]
  },
  {
   "cell_type": "code",
   "execution_count": 41,
   "metadata": {},
   "outputs": [
    {
     "name": "stdout",
     "output_type": "stream",
     "text": [
      "16.4 µs ± 714 ns per loop (mean ± std. dev. of 7 runs, 100000 loops each)\n"
     ]
    }
   ],
   "source": [
    "%%timeit\n",
    "\n",
    "def mede_rio(matrix, i, j):\n",
    "    tamanho = 1\n",
    "    if i+1 < len(matrix) and matrix[i+1][j] == 1:\n",
    "        matrix[i+1][j] = -1\n",
    "        tamanho += mede_rio(matrix, i+1, j)\n",
    "    elif i-1 >= 0 and matrix[i-1][j] == 1:\n",
    "        matrix[i-1][j] = -1\n",
    "        tamanho += mede_rio(matrix, i-1, j)\n",
    "    elif j+1 < len(matrix[i]) and matrix[i][j+1] == 1:\n",
    "        matrix[i][j+1] = -1\n",
    "        tamanho += mede_rio(matrix, i, j+1)\n",
    "    elif j-1 >= 0 and matrix[i][j-1] == 1:\n",
    "        matrix[i][j-1] = -1\n",
    "        tamanho += mede_rio(matrix, i, j-1)\n",
    "    return tamanho\n",
    "\n",
    "def conta_rios(matrix):\n",
    "    tamanho_rios = []\n",
    "\n",
    "    for i in range(len(matrix)):\n",
    "        if 1 not in matrix[i]:\n",
    "            continue\n",
    "        for j in range(len(matrix[i])):\n",
    "            if (matrix[i][j] == 1):\n",
    "                matrix[i][j] = -1\n",
    "                tamanho_rios.append(mede_rio(matrix, i, j))\n",
    "    \n",
    "    return tamanho_rios\n",
    "\n",
    "\n",
    "matrix = [\n",
    "    [1, 0, 1, 1, 0],\n",
    "    [1, 0, 1, 0, 0],\n",
    "    [1, 1, 1, 0, 1],\n",
    "    [1, 0, 1, 0, 1],\n",
    "    [1, 0, 1, 1, 1],\n",
    "]\n",
    "\n",
    "conta_rios(matrix)"
   ]
  },
  {
   "cell_type": "code",
   "execution_count": null,
   "metadata": {},
   "outputs": [],
   "source": []
  }
 ],
 "metadata": {
  "kernelspec": {
   "display_name": "Python 3 (ipykernel)",
   "language": "python",
   "name": "python3"
  },
  "language_info": {
   "codemirror_mode": {
    "name": "ipython",
    "version": 3
   },
   "file_extension": ".py",
   "mimetype": "text/x-python",
   "name": "python",
   "nbconvert_exporter": "python",
   "pygments_lexer": "ipython3",
   "version": "3.9.7"
  }
 },
 "nbformat": 4,
 "nbformat_minor": 4
}
