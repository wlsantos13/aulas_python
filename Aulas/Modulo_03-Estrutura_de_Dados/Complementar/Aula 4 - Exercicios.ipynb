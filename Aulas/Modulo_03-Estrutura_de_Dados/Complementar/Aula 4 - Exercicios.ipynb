{
 "cells": [
  {
   "cell_type": "markdown",
   "metadata": {},
   "source": [
    "# 3. Exercícios"
   ]
  },
  {
   "cell_type": "markdown",
   "metadata": {},
   "source": [
    "**1.** Crie um arquivo nomes.txt e salve os itens da lista 'nomes' em linhas separadas:"
   ]
  },
  {
   "cell_type": "code",
   "execution_count": null,
   "metadata": {},
   "outputs": [],
   "source": [
    "nomes = [\"André\", \"João\", \"Maria\"]\n",
    "\n",
    "arquivo = open(\"nomes.txt\", \"w\")\n",
    "arquivo.write(\"\\n\".join(nomes))\n",
    "arquivo.close()"
   ]
  },
  {
   "cell_type": "markdown",
   "metadata": {},
   "source": [
    "**2.** Salve as notas_alunos em um arquivo csv com o mesmo nome"
   ]
  },
  {
   "cell_type": "code",
   "execution_count": null,
   "metadata": {},
   "outputs": [],
   "source": [
    "import csv\n",
    "\n",
    "notas_alunos = [['jose', 10, 8, 9.5, 8.8, 10],\n",
    "                ['pedro', 9.8, 9.2, 9.0, 8.8, 9.1],\n",
    "                ['suzana', 8, 7.1, 7.5, 8.2, 7.9],\n",
    "                ['gisela', 10, 9.6, 8.9, 9.4, 9.7],\n",
    "                ['joao', 7.5, 7.9, 8.0, 9.1, 7.3]]\n",
    "\n",
    "\n",
    "arquivo = open('notas_alunos.csv', 'w')\n",
    "escritor = csv.writer(arquivo, delimiter=';', lineterminator='\\n')\n",
    "escritor.writerows(notas_alunos)\n",
    "arquivo.close()"
   ]
  },
  {
   "cell_type": "markdown",
   "metadata": {},
   "source": [
    "**3.** Adicione ao arquivo notas_alunos.csv as notas das seguintes alunas: <br>\n",
    "    mariana: 9.8, 10, 9.7, 9.0, 9.2 <br>\n",
    "    luciana: 9.5, 8.7, 10, 9.4, 9.6"
   ]
  },
  {
   "cell_type": "code",
   "execution_count": null,
   "metadata": {},
   "outputs": [],
   "source": [
    "notas_alunos = [['mariana', 9.8, 10, 9.7, 9.0, 9.2], \n",
    "                ['luciana', 9.5, 8.7, 10, 9.4, 9.6] \n",
    "]\n",
    "arquivo = open('notas_alunos.csv', 'a')\n",
    "escritor = csv.writer(arquivo, delimiter=';', lineterminator='\\n')\n",
    "escritor.writerows(notas_alunos)\n",
    "arquivo.close()"
   ]
  },
  {
   "cell_type": "markdown",
   "metadata": {},
   "source": [
    "**4.** Leia o arquivo notas_alunos.csv e retorne a nota média de cada um deles"
   ]
  },
  {
   "cell_type": "code",
   "execution_count": null,
   "metadata": {},
   "outputs": [],
   "source": [
    "import csv\n",
    "\n",
    "arquivo = open('notas_alunos.csv', 'r')\n",
    "leitor = csv.reader(arquivo, delimiter=';', lineterminator='\\n')\n",
    "\n",
    "notas = []\n",
    "alunos = []\n",
    "\n",
    "for linha in leitor:\n",
    "    soma = 0\n",
    "    for nota in linha[1:]:\n",
    "        soma += float(nota)\n",
    "    media = soma / len(linha[1:])\n",
    "    alunos.append([linha[0], media])    \n",
    "\n",
    "print(alunos)\n",
    "print(notas)\n",
    "\n",
    "arquivo.close()"
   ]
  },
  {
   "cell_type": "markdown",
   "metadata": {},
   "source": [
    "____\n",
    "____\n",
    "____\n",
    "____"
   ]
  }
 ],
 "metadata": {
  "kernelspec": {
   "display_name": "Python 3 (ipykernel)",
   "language": "python",
   "name": "python3"
  },
  "language_info": {
   "codemirror_mode": {
    "name": "ipython",
    "version": 3
   },
   "file_extension": ".py",
   "mimetype": "text/x-python",
   "name": "python",
   "nbconvert_exporter": "python",
   "pygments_lexer": "ipython3",
   "version": "3.9.7"
  }
 },
 "nbformat": 4,
 "nbformat_minor": 4
}
