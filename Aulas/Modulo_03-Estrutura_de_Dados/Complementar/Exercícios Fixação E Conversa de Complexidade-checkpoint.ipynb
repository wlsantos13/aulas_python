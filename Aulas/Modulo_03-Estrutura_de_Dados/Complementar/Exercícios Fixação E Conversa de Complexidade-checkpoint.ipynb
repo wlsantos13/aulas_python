{
 "cells": [
  {
   "cell_type": "markdown",
   "metadata": {},
   "source": [
    "## 1. Qual a complexidade dos Algorítmos?"
   ]
  },
  {
   "cell_type": "code",
   "execution_count": 1,
   "metadata": {},
   "outputs": [
    {
     "name": "stdout",
     "output_type": "stream",
     "text": [
      "40\n"
     ]
    }
   ],
   "source": [
    "a = 0\n",
    "for i in range(5):\n",
    "    for j in range(i + 1, 5):\n",
    "        a = a + i + j\n",
    "print(a)\n",
    "\n",
    "#O n**2"
   ]
  },
  {
   "cell_type": "code",
   "execution_count": null,
   "metadata": {},
   "outputs": [],
   "source": [
    "a = 0\n",
    "for i in range(8):\n",
    "    for j in range(8):\n",
    "        for k in range(8):\n",
    "            a = a + i + j + k\n",
    "print(a)\n",
    "\n",
    "## O n**3"
   ]
  },
  {
   "cell_type": "code",
   "execution_count": null,
   "metadata": {},
   "outputs": [],
   "source": [
    "for i in range(9):\n",
    "    i = 1\n",
    "    while i < 9:\n",
    "        i = i * 2\n",
    "        print(i)\n",
    "\n",
    "## 0 n log(n)"
   ]
  },
  {
   "cell_type": "code",
   "execution_count": null,
   "metadata": {},
   "outputs": [],
   "source": [
    "import math\n",
    "\n",
    "def eh_primo(n):\n",
    "    limite = math.sqrt(n)\n",
    "    for i in range(limite + 1):\n",
    "        if n % i == 0:\n",
    "            return False\n",
    "    return True\n",
    "\n",
    "    # log(n)"
   ]
  },
  {
   "cell_type": "markdown",
   "metadata": {},
   "source": [
    "## 2. Reescreva a Função de Fibonacci com uma complexidade menor do que \n",
    "\n",
    "$$O(2^n)$$"
   ]
  },
  {
   "cell_type": "code",
   "execution_count": 6,
   "metadata": {},
   "outputs": [
    {
     "name": "stdout",
     "output_type": "stream",
     "text": [
      "0\n",
      "1\n",
      "1\n",
      "2\n",
      "3\n",
      "5\n",
      "8\n",
      "13\n",
      "21\n",
      "34\n"
     ]
    }
   ],
   "source": [
    "def fibonacci(termo):\n",
    "    resultado = (1.618034**termo)-(1-1.618034)**termo\n",
    "    resultado = int(resultado/(5**0.5))\n",
    "    return(resultado)\n",
    "\n",
    "for x in range(10):\n",
    "    print(fibonacci(x))"
   ]
  },
  {
   "cell_type": "markdown",
   "metadata": {},
   "source": [
    "## 3. Ordene os laços abaixo do mais eficiente para o menos eficiente"
   ]
  },
  {
   "cell_type": "code",
   "execution_count": null,
   "metadata": {},
   "outputs": [],
   "source": [
    "# Laço a:\n",
    "i = 0\n",
    "while i < n:\n",
    "    i += 1\n",
    "\n",
    "# Laço b:\n",
    "j = 0\n",
    "while j < n:\n",
    "    j += 2\n",
    "\n",
    "# Laço c:\n",
    "k = 0\n",
    "while k < n:\n",
    "    k *= 2\n",
    "\n",
    "\n",
    "    # reposta é C, B,  A"
   ]
  },
  {
   "cell_type": "markdown",
   "metadata": {},
   "source": [
    "## 4. Escreva uma função que faça uma pesquisa linear,ou seja, uma função que recebe uma lista como parâmetro e devolve se o elemento se encontra nela ou não."
   ]
  },
  {
   "cell_type": "code",
   "execution_count": 13,
   "metadata": {},
   "outputs": [
    {
     "name": "stdout",
     "output_type": "stream",
     "text": [
      "False\n"
     ]
    }
   ],
   "source": [
    "def buscalinear(lista, x):\n",
    "    for i in range(len(lista)):\n",
    "        if lista[i] == x:\n",
    "            return True\n",
    "    return False\n",
    "\n",
    "lista = [1,2,3,4,5]\n",
    "\n",
    "resposta = buscalinear(lista, 6)\n",
    "\n",
    "print(resposta)"
   ]
  },
  {
   "cell_type": "markdown",
   "metadata": {},
   "source": [
    "## 5. Com base no exercício anterior, faça essa função retornar o índice que o elemento verificado se encontra(faça um tratamento para que elementos que não estejam presentes na lista retornem índice -1)"
   ]
  },
  {
   "cell_type": "code",
   "execution_count": 15,
   "metadata": {},
   "outputs": [
    {
     "name": "stdout",
     "output_type": "stream",
     "text": [
      "4\n"
     ]
    }
   ],
   "source": [
    "def buscalinear(lista, x):\n",
    "    for i in range(len(lista)):\n",
    "        if lista[i] == x:\n",
    "            return i\n",
    "    return -1\n",
    "\n",
    "lista = [1,2,3,4,5]\n",
    "\n",
    "resposta = buscalinear(lista, 5)\n",
    "\n",
    "print(resposta)"
   ]
  },
  {
   "cell_type": "code",
   "execution_count": null,
   "metadata": {},
   "outputs": [],
   "source": []
  }
 ],
 "metadata": {
  "kernelspec": {
   "display_name": "Python 3 (ipykernel)",
   "language": "python",
   "name": "python3"
  },
  "language_info": {
   "codemirror_mode": {
    "name": "ipython",
    "version": 3
   },
   "file_extension": ".py",
   "mimetype": "text/x-python",
   "name": "python",
   "nbconvert_exporter": "python",
   "pygments_lexer": "ipython3",
   "version": "3.8.10"
  }
 },
 "nbformat": 4,
 "nbformat_minor": 2
}
