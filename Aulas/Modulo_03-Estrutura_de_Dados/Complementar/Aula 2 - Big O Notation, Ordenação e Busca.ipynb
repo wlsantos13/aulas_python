{
 "cells": [
  {
   "cell_type": "markdown",
   "metadata": {
    "id": "jQKvjTK5s1Os"
   },
   "source": [
    "# Big-O Notation e Algoritmos de Busca/Ordenação\n",
    "<br>\n",
    "<div>\n",
    "<img src=\"https://i.stack.imgur.com/0WVoA.png\" width=\"400\"/>\n",
    "</div>"
   ]
  },
  {
   "cell_type": "markdown",
   "metadata": {
    "id": "SaAO0Mc0s1Oz"
   },
   "source": [
    "## 📍 Tópicos de Hoje 📍\n",
    "<br>\n",
    "\n",
    "👶 [Big-O Notation](#tres)\n",
    "\n",
    "🚶‍♂️ [Algoritmos de Busca](#um)\n",
    "\n",
    "🏃 [Algoritmos de Ordenação](#dois)\n",
    "    \n",
    "🏆 [Exercícios](#quatro)\n",
    "\n",
    "🚀 [O Futuro...](#cinco)"
   ]
  },
  {
   "cell_type": "markdown",
   "metadata": {
    "id": "zIgx0dBbs1O9"
   },
   "source": [
    "## 📈 Big-O Notation 📈 <a class=\"anchor\" id=\"um\"></a>\n",
    "\n",
    "<img src=\"https://miro.medium.com/max/2000/1*j8fUQjaUlmrQEN_udU0_TQ.jpeg\" width=\"500\"/>\n",
    "\n",
    "### Algoritmos de ordem O(1)\n",
    "\n",
    "<img src=\"https://miro.medium.com/max/462/0*t3jRGWN090LHH92P\" width=\"300\"/>\n",
    "\n",
    "Também conhecidos como constantes são os algoritmos que independente da quantidade de elementos temos apenas uma iteração para atingir nosso objetivo, os exemplos mais comuns que temos são os acessos a dados em listas e dicionários utilizando indexes e chaves."
   ]
  },
  {
   "cell_type": "code",
   "execution_count": null,
   "metadata": {},
   "outputs": [],
   "source": [
    "def buscaElemento(lista, idx):\n",
    "    return lista[idx]"
   ]
  },
  {
   "cell_type": "code",
   "execution_count": null,
   "metadata": {},
   "outputs": [],
   "source": [
    "lista = [54,26,93,17,77,31,44,55,20]\n",
    "print(buscaElemento(lista, 3))"
   ]
  },
  {
   "cell_type": "markdown",
   "metadata": {},
   "source": [
    "### Algoritmos de ordem O(n)\n",
    "\n",
    "<img src=\"https://miro.medium.com/max/458/0*mKcEzZZTAtWuPj90\" width=\"300\"/>\n",
    "\n",
    "Os algoritimos lineares são aqueles que o tempo de processamento cresce linearmente com a quantidade de elementos na estrutura, um exemplo que será citado é a busca linear, mas qualquer tipo de varredura de estrutura que só ocorre uma vez é linear."
   ]
  },
  {
   "cell_type": "code",
   "execution_count": null,
   "metadata": {},
   "outputs": [],
   "source": [
    "def imprimeLista(lista):\n",
    "    for elemento in lista:\n",
    "        print(elemento, end=\" \")\n",
    "    print()"
   ]
  },
  {
   "cell_type": "code",
   "execution_count": null,
   "metadata": {},
   "outputs": [],
   "source": [
    "lista2 = [54,26]\n",
    "lista3 = [54,26,10]\n",
    "lista4 = [54,26,10,5]\n",
    "imprimeLista(lista2)\n",
    "imprimeLista(lista3)\n",
    "imprimeLista(lista4)"
   ]
  },
  {
   "cell_type": "markdown",
   "metadata": {},
   "source": [
    "### Algoritmos de ordem O(n^2)\n",
    "\n",
    "<img src=\"https://miro.medium.com/max/459/0*6Nn_fhWn4KAnIArO\" width=\"300\"/>\n",
    "\n",
    "Os algoritmos exponenciais tem seu tempo de execução ao quadrado em relação a quantidade de elementos, qualquer algoritmo que varre uma lista, e para cada elemento varre a lista mais uma vez é um algoritmo de ordem O(n^2). Note que o seu tempo de execução, por tanto, é o pior de todos vistos até agora!"
   ]
  },
  {
   "cell_type": "code",
   "execution_count": null,
   "metadata": {},
   "outputs": [],
   "source": [
    "def somaImprime(lista):\n",
    "    for elemento1 in lista:\n",
    "        for elemento2 in lista:\n",
    "            print(elemento1 + elemento2, end=\" \")\n",
    "    print()"
   ]
  },
  {
   "cell_type": "code",
   "execution_count": null,
   "metadata": {},
   "outputs": [],
   "source": [
    "lista2 = [54,26]\n",
    "lista3 = [54,26,10]\n",
    "lista4 = [54,26,10,5]\n",
    "somaImprime(lista2)\n",
    "somaImprime(lista3)\n",
    "somaImprime(lista4)"
   ]
  },
  {
   "cell_type": "markdown",
   "metadata": {},
   "source": [
    "### Algoritmos de ordem O(log n)\n",
    "\n",
    "<img src=\"https://miro.medium.com/max/509/0*5a1WQJGJeriFo4RT\" width=\"300\"/>\n",
    "\n",
    "A última notação de tempo de complexidade que iremos ver é a Logarítmica. Esta família é considerada muita performática por nos oferecer uma opção de interação muito eficiente em casos com um grande número de valores de entrada. Um dos exemplos mais famosos é a busca binária que veremos muito em breve!"
   ]
  },
  {
   "cell_type": "markdown",
   "metadata": {
    "id": "tgpLO0Dds1Oz"
   },
   "source": [
    "##  🧐🔍   Algoritmos de Busca  🧐🔍  <a class=\"anchor\" id=\"dois\">\n",
    "    \n",
    "<a href=\"https://visualgo.net/en\">Visualização dos Algoritmos</a>\n",
    "\n",
    "Os algoritmos de busca têm como base o método de procura de qualquer elemento dentro de um conjunto de elementos com determinadas propriedades. Que podiam ser livros nas bibliotecas, ou dados cifrados, usados principalmente durante as duas grandes guerras. Seus formatos em linguagem computacional vieram a se desenvolver juntamente com a construção dos primeiros computadores. Sendo que a maioria de suas publicações conhecidas começa a surgir a partir da década de 1970 Atualmente os algoritmos de busca são a base de motores de buscas da Internet.\n",
    "\n",
    "### Busca Linear\n",
    "    \n",
    "A busca em uma lista!"
   ]
  },
  {
   "cell_type": "code",
   "execution_count": null,
   "metadata": {},
   "outputs": [],
   "source": [
    "def linearSearch(lista, item):\n",
    "    for idx in range(len(lista)):\n",
    "        if lista[idx] == item:\n",
    "            return idx\n",
    "    return -1"
   ]
  },
  {
   "cell_type": "code",
   "execution_count": null,
   "metadata": {},
   "outputs": [],
   "source": [
    "lista = [0, 10, 20, 30, 40, 50, 60, 70]\n",
    "linearSearch(lista, 35)"
   ]
  },
  {
   "cell_type": "markdown",
   "metadata": {},
   "source": [
    "### Busca Binária\n",
    "\n",
    "Podemos definir o problema da pesquisa binária como a seguir:<br>\n",
    "\n",
    "- **Descrição da entrada**: Uma sequência ordenada S de n números e um elemento e que desejamos encontrar.<br>\n",
    "\n",
    "- **Descrição da tarefa**: Determinar se o elemento e está na sequência S.<br>\n",
    "\n",
    "- **Descrição da saída**: Se o elemento estiver na sequência, retorne o índice em que o elemento e aparece em S. Caso contrário, retorne o valor −1.<br>\n",
    "\n",
    "#### Diferença entre busca linear e busca binária\n",
    "\n",
    "|*n*|**Pesquisa Linear**|**Pesquisa Binaria**|\n",
    "|---|---|---|\n",
    "|1024|1024|10|\n",
    "|4096|4096|12|\n",
    "|16384|16384|14|\n",
    "|65536|65536|16|\n",
    "|262144|262144|18|"
   ]
  },
  {
   "cell_type": "code",
   "execution_count": null,
   "metadata": {},
   "outputs": [],
   "source": [
    "1, 2, 3, 4, 5, 6, 7, 8, 9, 10, 11, 12, 13, 14, 15"
   ]
  },
  {
   "cell_type": "code",
   "execution_count": null,
   "metadata": {},
   "outputs": [],
   "source": [
    "def buscaBinaria(lista, idxEsquerda, idxDireita, item):\n",
    "    # Caso base: o elemento não está presente. \n",
    "    if idxDireita < idxEsquerda:\n",
    "        return -1\n",
    "    meio = (idxDireita + idxEsquerda) // 2\n",
    "    # Nosso palpite estava certo: o elemento está no meio do arranjo. \n",
    "    if lista[meio] == item:\n",
    "        return meio\n",
    "    # O palpite estava errado: atualizamos os limites e continuamos a busca. \n",
    "    elif lista[meio] > item:\n",
    "        return buscaBinaria(lista, idxEsquerda, meio - 1, item)\n",
    "    else: # lista[meio] < item\n",
    "        return buscaBinaria(lista, meio + 1, idxDireita, item)"
   ]
  },
  {
   "cell_type": "code",
   "execution_count": null,
   "metadata": {},
   "outputs": [],
   "source": [
    "A = [0, 10, 20, 30, 40, 50, 60, 70]\n",
    "print(\"Pesquisa com sucesso:\", buscaBinaria(A, 0, len(A) - 1, 20))\n",
    "print(\"Pesquisa com sucesso:\", buscaBinaria(A, 0, len(A) - 1, 0))\n",
    "print(\"Pesquisa com sucesso:\", buscaBinaria(A, 0, len(A) - 1, 70))\n",
    "print(\"Pesquisa com sucesso:\", buscaBinaria(A, 0, len(A) - 1, 100))"
   ]
  },
  {
   "cell_type": "markdown",
   "metadata": {},
   "source": [
    "### Busca em Profundidade\n",
    "\n",
    "O algoritmo de busca em profundidade é percorrer todos os caminhos de um grafo de forma sistemática. Grosso modo, o algoritmo funciona assim. Começando por um vértice qualquer, e indo \"o mais fundo possível\". Sempre que encontramos um vértice já visitado, retornamos da busca.\n",
    "\n",
    "As seguinte estrutura:\n",
    "\n",
    "<img src=\"https://algoritmosempython.com.br/images/algoritmos-python/algoritmos-grafos/ExemploGrafoImplicito.png\" width=\"130\"/>\n",
    "\n",
    "Pode ser descrita como cada elemento possuindo seus vizinhos, da seguinte maneira:\n",
    "\n",
    "```python\n",
    "grafo = [ \n",
    "          [1],           # Vizinhos do vértice 0.\n",
    "          [2, 3],        # Vizinhos do vértice 1.\n",
    "          [1, 4],        # Vizinhos do vértice 2.\n",
    "          [0],           # Vizinhos do vértice 3.\n",
    "          [1]            # Vizinhos do vértice 4.\n",
    "        ]\n",
    "```\n",
    "\n",
    "Vamos entender melhor grafos mais a frente.\n",
    "\n",
    "Para percorrer todos as bolinhas (grafos) podemos fazer:"
   ]
  },
  {
   "cell_type": "code",
   "execution_count": null,
   "metadata": {},
   "outputs": [
    {
     "ename": "",
     "evalue": "",
     "output_type": "error",
     "traceback": [
      "\u001b[1;31mFailed to start the Kernel. \n",
      "Kernel Python 3.8.10 64-bit is not usable. Check the Jupyter output tab for more information. \n",
      "View Jupyter <a href='command:jupyter.viewOutput'>log</a> for further details."
     ]
    }
   ],
   "source": [
    "def buscaProfundidade(grafo, vertice=0, visitados=list()):\n",
    "    print(f\"Você está no vértice {vertice}, seus vizinhos são {', '.join([str(x) for x in grafo[vertice]])} \", end = \"\")\n",
    "    print(f\"e você já visitou os grafos {', '.join([str(x) for x in visitados])}\") if len(visitados) > 0 else print()\n",
    "    \n",
    "    visitados.append(vertice)\n",
    "    for vizinho in grafo[vertice]:\n",
    "        if vizinho not in visitados:\n",
    "            buscaProfundidade(grafo, vizinho, visitados)"
   ]
  },
  {
   "cell_type": "code",
   "execution_count": null,
   "metadata": {},
   "outputs": [],
   "source": [
    "grafos = [ \n",
    "          [1],           # Vizinhos do vértice 0.\n",
    "          [2, 3],        # Vizinhos do vértice 1.\n",
    "          [1, 4],        # Vizinhos do vértice 2.\n",
    "          [0],           # Vizinhos do vértice 3.\n",
    "          [1]            # Vizinhos do vértice 4.\n",
    "        ]\n",
    "\n",
    "buscaProfundidade(grafos)"
   ]
  },
  {
   "cell_type": "markdown",
   "metadata": {},
   "source": [
    "<img src=\"https://algoritmosempython.com.br/images/algoritmos-python/algoritmos-grafos/ExemploGrafoImplicito.png\" width=\"130\"/>"
   ]
  },
  {
   "cell_type": "markdown",
   "metadata": {
    "id": "BBAZrBgxs1O1"
   },
   "source": [
    "## 🗃️ Algoritmos de Ordenação 🗃️ <a class=\"anchor\" id=\"tres\"></a>\n",
    "\n",
    "<a href=\"https://www.toptal.com/developers/sorting-algorithms\">Demo Visual Geral</a>\n",
    "\n",
    "### Bubble Sort\n",
    "<a href=\"https://www.youtube.com/watch?v=nmhjrI-aW5o&ab_channel=GeeksforGeeks\">Demo Visual</a>\n",
    "\n",
    "O bubble sort realiza múltiplas passagem por uma lista. Ele compara itens adjacentes e troca aqueles que estão fora de ordem. Cada passagem pela lista coloca o próximo maior valor na sua posição correta. Em essência, cada item se desloca como uma “bolha” para a posição à qual pertence."
   ]
  },
  {
   "cell_type": "code",
   "execution_count": null,
   "metadata": {},
   "outputs": [],
   "source": [
    "def bubbleSort(lista):\n",
    "    for n in range(len(lista)-1,0,-1):\n",
    "        for i in range(n):\n",
    "            if lista[i]>lista[i+1]:\n",
    "                lista[i+1], lista[i] = lista[i], lista[i+1]\n",
    "\n",
    "lista = [54,26,93,17,77,31,44,55,20]\n",
    "bubbleSort(lista)\n",
    "print(lista)"
   ]
  },
  {
   "cell_type": "markdown",
   "metadata": {},
   "source": [
    "### Merge Sort\n",
    "<a href=\"https://www.youtube.com/watch?v=JSceec-wEyw&ab_channel=GeeksforGeeks\">Demo Visual</a>\n",
    "\n",
    "O merge sort é um algoritmo recursivo que divide uma lista continuamente pela metade. Se a lista estiver vazia ou tiver um único item, ela está ordenada por definição (o caso base). Se a lista tiver mais de um item, dividimos a lista e invocamos recursivamente um merge sort em ambas as metades. Assim que as metades estiverem ordenadas, a operação fundamental, chamada de intercalação, é realizada. Intercalar é o processo de pegar duas listas menores ordenadas e combiná-las de modo a formar uma lista nova, única e ordenada.\n",
    "\n",
    "Primeiro devemos separar a lista toda em sublistas de 1 elemento:\n",
    "<img src=\"https://panda.ime.usp.br/panda/static/pythonds_pt/_images/mergesortA.png\" width=\"400\"/>\n",
    "\n",
    "Depois devemos mergir as listas duas a duas mantendo a ordem:\n",
    "<img src=\"https://panda.ime.usp.br/panda/static/pythonds_pt/_images/mergesortB.png\" width=\"400\"/>"
   ]
  },
  {
   "cell_type": "code",
   "execution_count": null,
   "metadata": {},
   "outputs": [],
   "source": [
    "def mergeSort(lista):\n",
    "    print(\"Dividindo \",lista)\n",
    "    if len(lista)>1:\n",
    "        meio = len(lista)//2\n",
    "        metadeEsq = lista[:meio]\n",
    "        metadeDir = lista[meio:]\n",
    "\n",
    "        mergeSort(metadeEsq)\n",
    "        mergeSort(metadeDir)\n",
    "\n",
    "        i=0\n",
    "        j=0\n",
    "        k=0\n",
    "        while i < len(metadeEsq) and j < len(metadeDir):\n",
    "            if metadeEsq[i] < metadeDir[j]:\n",
    "                lista[k]=metadeEsq[i]\n",
    "                i=i+1\n",
    "            else:\n",
    "                lista[k]=metadeDir[j]\n",
    "                j=j+1\n",
    "            k=k+1\n",
    "\n",
    "        while i < len(metadeEsq):\n",
    "            lista[k]=metadeEsq[i]\n",
    "            i=i+1\n",
    "            k=k+1\n",
    "\n",
    "        while j < len(metadeDir):\n",
    "            lista[k]=metadeDir[j]\n",
    "            j=j+1\n",
    "            k=k+1\n",
    "    print(\"Mergindo \",lista)"
   ]
  },
  {
   "cell_type": "code",
   "execution_count": null,
   "metadata": {},
   "outputs": [],
   "source": [
    "lista = [54,26,93,17,77,31,44,55,20]\n",
    "mergeSort(lista)\n",
    "print(lista)"
   ]
  },
  {
   "cell_type": "markdown",
   "metadata": {
    "id": "ksWegZoKs1PA"
   },
   "source": [
    "## 🎯 Exercícios 🎯 <a class=\"anchor\" id=\"quatro\"></a>\n",
    "\n",
    "**1)** Faça uma função que receba uma lista com n inteiros e retorne ela ordenada com os pares primeiros seguidos dos impares, por fim comente qual a complexidade do algoritmo feito.\n",
    "\n",
    "**Example 1:**\n",
    "\n",
    "**Input:** [3,1,2,4]\n",
    "\n",
    "**Output:** [2,4,3,1]\n",
    "\n",
    "**Explanation:** As saídas [4,2,3,1], [2,4,1,3], e [4,2,1,3]  também seriam aceitas.\n",
    "\n",
    "---\n",
    "\n",
    "**Example 2:**\n",
    "\n",
    "**Input:** [0]\n",
    "\n",
    "**Output:** [0]\n"
   ]
  },
  {
   "cell_type": "code",
   "execution_count": null,
   "metadata": {},
   "outputs": [],
   "source": [
    "lista1 =  [3,1,2,4,10,55,31,54]\n",
    "\n",
    "def ordernacao(lista):\n",
    "    listapares = []\n",
    "    listaimpares = []\n",
    "    \n",
    "\n",
    "    for n in lista:\n",
    "        if n%2 == 0:\n",
    "            listapares.append(n)\n",
    "        else:\n",
    "            listaimpares.append(n)\n",
    "\n",
    "    return listapares + listaimpares\n",
    "\n",
    "\n",
    "print(ordernacao(lista1))\n",
    "\n",
    "\n",
    "Complexidade = O(n)"
   ]
  },
  {
   "cell_type": "markdown",
   "metadata": {},
   "source": [
    "**2)** (Busca Binária) Dado qualquer lista bi-dimensional (lista de listas) que em cada sublista tenhamos uma sequência de números estritamente decrescente faça uma função que retorna a quantidade de números negativos dessa lista aninhada.\n",
    "\n",
    "**Example 1:** \n",
    "\n",
    "**Input:**  [[4,3,2,-1],[3,2,1,-1],[1,1,-1,-2],[-1,-1,-2,-3]]\n",
    "\n",
    "**Output:**  8\n",
    "\n",
    "---\n",
    "\n",
    "**Example 2:** \n",
    "\n",
    "**Input:** [[3,2],[1,0]]\n",
    "\n",
    "**Output:**  0\n",
    "\n",
    "---\n",
    "\n",
    "**Example 3:** \n",
    "\n",
    "**Input:** [[1,-1],[-1,-1]]\n",
    "\n",
    "**Output:** 3\n",
    "\n",
    "---\n",
    "\n",
    "**Example 4:** \n",
    "\n",
    "**Input:** [[-1]]\n",
    "\n",
    "**Output** : 1"
   ]
  },
  {
   "cell_type": "code",
   "execution_count": null,
   "metadata": {},
   "outputs": [],
   "source": []
  },
  {
   "cell_type": "markdown",
   "metadata": {},
   "source": [
    "**3)** (Busca de Profundidade) Dado uma estrutura de grafos como no código exemplo, e mais dois pontos, um de entrada e um de saída, você deve fazer um algoritmo que retorna True se houver caminho de um para o outro, ou Falso caso contrário.\n",
    "\n",
    "**Example 1:** \n",
    "\n",
    "**Input:**  [[1], [2, 3], [1, 4], [0], [1]], 0, 4\n",
    "\n",
    "**Output:**  True\n",
    "\n",
    "---\n",
    "\n",
    "**Example 2:** \n",
    "\n",
    "**Input:** [[1], [2, 3], [1, 4], [0], [1]], 1, 2\n",
    "\n",
    "**Output:**  True\n",
    "\n",
    "---\n",
    "\n",
    "**Example 3:** \n",
    "\n",
    "**Input:** [[1], [2, 3], [1], [0], [1, 3]], 3, 4\n",
    "\n",
    "**Output:** False\n",
    "\n",
    "---\n",
    "\n",
    "**Example 4:** \n",
    "\n",
    "**Input:** [[1], [2, 3], [1], [0], [1, 3]], 4, 0\n",
    "\n",
    "**Output** : True"
   ]
  },
  {
   "cell_type": "code",
   "execution_count": null,
   "metadata": {},
   "outputs": [],
   "source": []
  },
  {
   "cell_type": "markdown",
   "metadata": {
    "id": "n6wuRFjVs1PD"
   },
   "source": [
    "## 🌌 O futuro... 🌌 <a class=\"anchor\" id=\"cinco\"></a>\n",
    "\n",
    "&emsp; De aqui em diante o mundo é de vocês, com OO e Algoritmos vocês tem base para aprenderem praticamente tudo em programação e serem aprovados nos mais competidos processos seletivos. Sigam estudando novas estruturas de dados, algoritmos para resolver os mais diversos problemas\n",
    "\n",
    "# Acabooou! 🎉 Agradeço pela atenção de todos! 😄\n",
    "## Qualquer duvida não hesitem em me chamar. 👩‍💻"
   ]
  }
 ],
 "metadata": {
  "colab": {
   "name": "Aula 1 - Introducao.ipynb",
   "provenance": []
  },
  "kernelspec": {
   "display_name": "Python 3 (ipykernel)",
   "language": "python",
   "name": "python3"
  },
  "language_info": {
   "codemirror_mode": {
    "name": "ipython",
    "version": 3
   },
   "file_extension": ".py",
   "mimetype": "text/x-python",
   "name": "python",
   "nbconvert_exporter": "python",
   "pygments_lexer": "ipython3",
   "version": "3.8.10"
  }
 },
 "nbformat": 4,
 "nbformat_minor": 1
}
